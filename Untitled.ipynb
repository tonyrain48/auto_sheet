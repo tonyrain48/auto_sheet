{
 "cells": [
  {
   "cell_type": "code",
   "execution_count": 24,
   "metadata": {},
   "outputs": [],
   "source": [
    "import pandas as pd\n",
    "import re"
   ]
  },
  {
   "cell_type": "code",
   "execution_count": 2,
   "metadata": {},
   "outputs": [],
   "source": [
    "dfold=pd.read_excel('对冲头寸损益.xlsx',sheet_name='流水汇总旧')\n",
    "dfnew=pd.read_excel('对冲头寸损益.xlsx',sheet_name='流水汇总')\n",
    "dftotal=pd.concat([dfold,dfnew])r\n",
    "dftotal.reset_index(drop=True,inplace=True)"
   ]
  },
  {
   "cell_type": "code",
   "execution_count": 46,
   "metadata": {},
   "outputs": [],
   "source": [
    "datelist=dftotal['委托日期'].unique()"
   ]
  },
  {
   "cell_type": "code",
   "execution_count": 47,
   "metadata": {},
   "outputs": [
    {
     "data": {
      "text/plain": [
       "array(['2015-12-09T00:00:00.000000000', '2015-12-10T00:00:00.000000000',\n",
       "       '2015-12-11T00:00:00.000000000', ...,\n",
       "       '2020-08-04T00:00:00.000000000', '2020-08-05T00:00:00.000000000',\n",
       "       '2020-08-06T00:00:00.000000000'], dtype='datetime64[ns]')"
      ]
     },
     "execution_count": 47,
     "metadata": {},
     "output_type": "execute_result"
    }
   ],
   "source": [
    "datelist[]"
   ]
  },
  {
   "cell_type": "code",
   "execution_count": 57,
   "metadata": {},
   "outputs": [
    {
     "name": "stdout",
     "output_type": "stream",
     "text": [
      "ic\n",
      "if\n",
      "ag\n",
      "au\n",
      "ic\n",
      "ic\n",
      "ic\n",
      "au\n"
     ]
    }
   ],
   "source": [
    "for date in datelist[-2:]:\n",
    "    df = dftotal[dftotal['委托日期'] == date]\n",
    "    df.loc[df['买卖'] != 1, '成交数量'] = -df['成交数量']\n",
    "    contractlist=df.groupby('代码').sum()['成交数量'].index\n",
    "    contractamt=df.groupby('代码').sum()['成交数量'].values\n",
    "    for contract in contractlist:\n",
    "        if contract not in ['']:\n",
    "            if contract[0].isdigit():\n",
    "                underlying = contract\n",
    "            else:\n",
    "                underlying=re.findall(r'^\\D.',contract.split('.')[0])[0].lower()\n",
    "                print(underlying)"
   ]
  },
  {
   "cell_type": "code",
   "execution_count": 1,
   "metadata": {},
   "outputs": [
    {
     "name": "stdout",
     "output_type": "stream",
     "text": [
      "Welcome to use Wind Quant API for Python (WindPy)!\n",
      "\n",
      "COPYRIGHT (C) 2020 WIND INFORMATION CO., LTD. ALL RIGHTS RESERVED.\n",
      "IN NO CIRCUMSTANCE SHALL WIND BE RESPONSIBLE FOR ANY DAMAGES OR LOSSES CAUSED BY USING WIND QUANT API FOR Python.\n"
     ]
    },
    {
     "data": {
      "text/plain": [
       ".ErrorCode=0\n",
       ".Data=[OK!]"
      ]
     },
     "execution_count": 1,
     "metadata": {},
     "output_type": "execute_result"
    }
   ],
   "source": [
    "from WindPy import *\n",
    "w.start()"
   ]
  },
  {
   "cell_type": "code",
   "execution_count": 26,
   "metadata": {},
   "outputs": [],
   "source": [
    "settleprice=w.wsd(\"IF1512.CFE\", \"close,settle\", \"ED0D\", \"2015-12-09\", \"\")"
   ]
  },
  {
   "cell_type": "code",
   "execution_count": 28,
   "metadata": {},
   "outputs": [
    {
     "data": {
      "text/plain": [
       ".ErrorCode=0\n",
       ".Codes=[IF1512.CFE]\n",
       ".Fields=[CLOSE,SETTLE]\n",
       ".Times=[20151209]\n",
       ".Data=[[3593.2],[3590.8]]"
      ]
     },
     "execution_count": 28,
     "metadata": {},
     "output_type": "execute_result"
    }
   ],
   "source": [
    "settleprice"
   ]
  },
  {
   "cell_type": "code",
   "execution_count": 27,
   "metadata": {},
   "outputs": [
    {
     "data": {
      "text/plain": [
       "False"
      ]
     },
     "execution_count": 27,
     "metadata": {},
     "output_type": "execute_result"
    }
   ],
   "source": [
    "pd.isnull(settleprice.Data[0][0])"
   ]
  }
 ],
 "metadata": {
  "kernelspec": {
   "display_name": "Python 3",
   "language": "python",
   "name": "python3"
  },
  "language_info": {
   "codemirror_mode": {
    "name": "ipython",
    "version": 3
   },
   "file_extension": ".py",
   "mimetype": "text/x-python",
   "name": "python",
   "nbconvert_exporter": "python",
   "pygments_lexer": "ipython3",
   "version": "3.8.3"
  }
 },
 "nbformat": 4,
 "nbformat_minor": 4
}
